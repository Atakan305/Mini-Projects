{
 "cells": [
  {
   "cell_type": "code",
   "execution_count": 1,
   "metadata": {},
   "outputs": [],
   "source": [
    "from GoogleNews import GoogleNews"
   ]
  },
  {
   "cell_type": "code",
   "execution_count": null,
   "metadata": {},
   "outputs": [],
   "source": [
    "googlenews = GoogleNews()\n",
    "googlenews = GoogleNews(period = 'Enter the number of days you want to receive news:')\n",
    "googlenews.search('Enter the country or any news headline that you want to receive news:')\n",
    "\n",
    "result = googlenews.result()\n",
    "\n",
    "for news in result:\n",
    "    print(\"-\" * 50)\n",
    "    print(\"Title--\", news['title'])\n",
    "    print(\"Date/Time--\", news['date'])\n",
    "    print(\"Description--\", news['desc'])\n",
    "    print(\"Link--\", news['link'])"
   ]
  },
  {
   "cell_type": "code",
   "execution_count": null,
   "metadata": {},
   "outputs": [],
   "source": [
    "# Example \n",
    "googlenews = GoogleNews()\n",
    "googlenews = GoogleNews(period = '7d')\n",
    "googlenews.search('Corona')\n",
    "\n",
    "result = googlenews.result()\n",
    "\n",
    "for news in result:\n",
    "    print(\"-\" * 50)\n",
    "    print(\"Title--\", news['title'])\n",
    "    print(\"Date/Time--\", news['date'])\n",
    "    print(\"Description--\", news['desc'])\n",
    "    print(\"Link--\", news['link'])"
   ]
  },
  {
   "cell_type": "code",
   "execution_count": null,
   "metadata": {},
   "outputs": [],
   "source": [
    "# Example \n",
    "googlenews = GoogleNews()\n",
    "googlenews = GoogleNews(period = '7d')\n",
    "googlenews.search('Turkey')\n",
    "\n",
    "result = googlenews.result()\n",
    "\n",
    "for news in result:\n",
    "    print(\"-\" * 50)\n",
    "    print(\"Title--\", news['title'])\n",
    "    print(\"Date/Time--\", news['date'])\n",
    "    print(\"Description--\", news['desc'])\n",
    "    print(\"Link--\", news['link'])"
   ]
  },
  {
   "cell_type": "code",
   "execution_count": null,
   "metadata": {},
   "outputs": [],
   "source": []
  }
 ],
 "metadata": {
  "kernelspec": {
   "display_name": "Python 3",
   "language": "python",
   "name": "python3"
  },
  "language_info": {
   "codemirror_mode": {
    "name": "ipython",
    "version": 3
   },
   "file_extension": ".py",
   "mimetype": "text/x-python",
   "name": "python",
   "nbconvert_exporter": "python",
   "pygments_lexer": "ipython3",
   "version": "3.7.6"
  }
 },
 "nbformat": 4,
 "nbformat_minor": 4
}
