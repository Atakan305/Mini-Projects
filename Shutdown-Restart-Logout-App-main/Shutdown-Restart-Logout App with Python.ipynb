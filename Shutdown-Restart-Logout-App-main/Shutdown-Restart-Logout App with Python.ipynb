{
 "cells": [
  {
   "cell_type": "code",
   "execution_count": 1,
   "metadata": {},
   "outputs": [],
   "source": [
    "from tkinter import *\n",
    "import os "
   ]
  },
  {
   "cell_type": "code",
   "execution_count": 2,
   "metadata": {},
   "outputs": [],
   "source": [
    "def shutdown():\n",
    "    return os.system(\"shutdown /s /t 1\")\n",
    "\n",
    "def restart():\n",
    "    return os.system(\"shutdown /r /t 1\")\n",
    "\n",
    "def logout():\n",
    "    return os.system(\"shutdown -l\")\n",
    "\n",
    "# tkinter object \n",
    "master = Tk()\n",
    "master.geometry(\"100x100\")\n",
    "\n",
    "# I'm setting the background 'grey' colour\n",
    "master.configure(bg = 'orange')\n",
    "\n",
    "# now, I'm creating a button using widgets\n",
    "# and buttons that will call the submit function \n",
    "Button(master, text = \"Shutdown\", command = shutdown).place(x = 20, y = 20)\n",
    "Button(master, text = \"Restart\", command = restart).place(x = 25, y = 50)\n",
    "Button(master, text = \"Logout\", command = logout).place(x = 20, y = 80)\n",
    "\n",
    "mainloop()"
   ]
  },
  {
   "cell_type": "code",
   "execution_count": null,
   "metadata": {},
   "outputs": [],
   "source": []
  }
 ],
 "metadata": {
  "kernelspec": {
   "display_name": "Python 3",
   "language": "python",
   "name": "python3"
  },
  "language_info": {
   "codemirror_mode": {
    "name": "ipython",
    "version": 3
   },
   "file_extension": ".py",
   "mimetype": "text/x-python",
   "name": "python",
   "nbconvert_exporter": "python",
   "pygments_lexer": "ipython3",
   "version": "3.7.6"
  }
 },
 "nbformat": 4,
 "nbformat_minor": 4
}
